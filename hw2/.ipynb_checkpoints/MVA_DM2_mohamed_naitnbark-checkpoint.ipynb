{
 "metadata": {
  "name": "",
  "signature": "sha256:92521f89c03c7fb9f1f4e2342551e31fb5958cd25e2a435d3082d6ffe8e57190"
 },
 "nbformat": 3,
 "nbformat_minor": 0,
 "worksheets": []
}