{
 "metadata": {
  "name": "",
  "signature": "sha256:f4f44b482ff787f25a8b88c1b1a000f5e92c7078287e8fa585b81422996021b0"
 },
 "nbformat": 3,
 "nbformat_minor": 0,
 "worksheets": [
  {
   "cells": [
    {
     "cell_type": "code",
     "collapsed": false,
     "input": [
      "import string\n",
      "import re\n",
      "import codecs\n",
      "a=re.compile(u\"[a-zA-Z\u00e9\u00ea\u00f4\u00fb\u00e8\u00ee\u00e2\u00e0\u00ef\u00eb ]{2}\")\n",
      "f1 = codecs.open(\"bigrammes.txt\",\"r\",encoding=\"utf-8\")\n",
      "f1.seek(0)\n",
      "l=[]\n",
      "for line in f1:\n",
      "    if a.match(line[0:2]):\n",
      "            l.append(line.lower())\n",
      "f2 = codecs.open(\"bigrammes_good.txt\",\"w\",encoding=\"utf-8\")\n",
      "f2.writelines(l)\n",
      "f1.close()\n",
      "f2.close()"
     ],
     "language": "python",
     "metadata": {},
     "outputs": [],
     "prompt_number": 16
    },
    {
     "cell_type": "code",
     "collapsed": false,
     "input": [],
     "language": "python",
     "metadata": {},
     "outputs": []
    }
   ],
   "metadata": {}
  }
 ]
}